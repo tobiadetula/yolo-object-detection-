{
 "cells": [
  {
   "cell_type": "code",
   "execution_count": 1,
   "id": "26050a76",
   "metadata": {
    "vscode": {
     "languageId": "shellscript"
    }
   },
   "outputs": [
    {
     "name": "stdout",
     "output_type": "stream",
     "text": [
      "Collecting transformers@ git+https://github.com/huggingface/transformers.git@ebbe9b12dd75b69f92100d684c47f923ee262a93 (from -r requirements.txt (line 92))\n",
      "  Cloning https://github.com/huggingface/transformers.git (to revision ebbe9b12dd75b69f92100d684c47f923ee262a93) to /tmp/pip-install-_q6rrghz/transformers_3ccc0f51b99a49038ee297947fcbdf28\n",
      "  Running command git clone --filter=blob:none --quiet https://github.com/huggingface/transformers.git /tmp/pip-install-_q6rrghz/transformers_3ccc0f51b99a49038ee297947fcbdf28\n",
      "  Running command git rev-parse -q --verify 'sha^ebbe9b12dd75b69f92100d684c47f923ee262a93'\n",
      "  Running command git fetch -q https://github.com/huggingface/transformers.git ebbe9b12dd75b69f92100d684c47f923ee262a93\n",
      "  Running command git checkout -q ebbe9b12dd75b69f92100d684c47f923ee262a93\n",
      "  Resolved https://github.com/huggingface/transformers.git to commit ebbe9b12dd75b69f92100d684c47f923ee262a93\n",
      "  Installing build dependencies ... \u001b[?25ldone\n",
      "\u001b[?25h  Getting requirements to build wheel ... \u001b[?25ldone\n",
      "\u001b[?25h  Preparing metadata (pyproject.toml) ... \u001b[?25ldone\n",
      "\u001b[?25hRequirement already satisfied: aiohappyeyeballs==2.6.1 in ./.venv/lib/python3.12/site-packages (from -r requirements.txt (line 1)) (2.6.1)\n",
      "Requirement already satisfied: aiohttp==3.11.18 in ./.venv/lib/python3.12/site-packages (from -r requirements.txt (line 2)) (3.11.18)\n",
      "Requirement already satisfied: aiosignal==1.3.2 in ./.venv/lib/python3.12/site-packages (from -r requirements.txt (line 3)) (1.3.2)\n",
      "Requirement already satisfied: asttokens==3.0.0 in ./.venv/lib/python3.12/site-packages (from -r requirements.txt (line 4)) (3.0.0)\n",
      "Requirement already satisfied: attrs==25.3.0 in ./.venv/lib/python3.12/site-packages (from -r requirements.txt (line 5)) (25.3.0)\n",
      "Requirement already satisfied: certifi==2025.4.26 in ./.venv/lib/python3.12/site-packages (from -r requirements.txt (line 6)) (2025.4.26)\n",
      "Requirement already satisfied: charset-normalizer==3.4.2 in ./.venv/lib/python3.12/site-packages (from -r requirements.txt (line 7)) (3.4.2)\n",
      "Requirement already satisfied: comm==0.2.2 in ./.venv/lib/python3.12/site-packages (from -r requirements.txt (line 8)) (0.2.2)\n",
      "Requirement already satisfied: contourpy==1.3.2 in ./.venv/lib/python3.12/site-packages (from -r requirements.txt (line 9)) (1.3.2)\n",
      "Requirement already satisfied: cycler==0.12.1 in ./.venv/lib/python3.12/site-packages (from -r requirements.txt (line 10)) (0.12.1)\n",
      "Requirement already satisfied: debugpy==1.8.14 in ./.venv/lib/python3.12/site-packages (from -r requirements.txt (line 11)) (1.8.14)\n",
      "Requirement already satisfied: decorator==5.2.1 in ./.venv/lib/python3.12/site-packages (from -r requirements.txt (line 12)) (5.2.1)\n",
      "Requirement already satisfied: executing==2.2.0 in ./.venv/lib/python3.12/site-packages (from -r requirements.txt (line 13)) (2.2.0)\n",
      "Requirement already satisfied: filelock==3.18.0 in ./.venv/lib/python3.12/site-packages (from -r requirements.txt (line 14)) (3.18.0)\n",
      "Requirement already satisfied: fonttools==4.57.0 in ./.venv/lib/python3.12/site-packages (from -r requirements.txt (line 15)) (4.57.0)\n",
      "Requirement already satisfied: frozenlist==1.6.0 in ./.venv/lib/python3.12/site-packages (from -r requirements.txt (line 16)) (1.6.0)\n",
      "Requirement already satisfied: fsspec==2025.3.0 in ./.venv/lib/python3.12/site-packages (from -r requirements.txt (line 17)) (2025.3.0)\n",
      "Requirement already satisfied: huggingface-hub==0.30.2 in ./.venv/lib/python3.12/site-packages (from -r requirements.txt (line 18)) (0.30.2)\n",
      "Requirement already satisfied: idna==3.10 in ./.venv/lib/python3.12/site-packages (from -r requirements.txt (line 19)) (3.10)\n",
      "Requirement already satisfied: iniconfig==2.1.0 in ./.venv/lib/python3.12/site-packages (from -r requirements.txt (line 20)) (2.1.0)\n",
      "Requirement already satisfied: ipykernel==6.29.5 in ./.venv/lib/python3.12/site-packages (from -r requirements.txt (line 21)) (6.29.5)\n",
      "Requirement already satisfied: ipython==9.2.0 in ./.venv/lib/python3.12/site-packages (from -r requirements.txt (line 22)) (9.2.0)\n",
      "Requirement already satisfied: ipython_pygments_lexers==1.1.1 in ./.venv/lib/python3.12/site-packages (from -r requirements.txt (line 23)) (1.1.1)\n",
      "Requirement already satisfied: jedi==0.19.2 in ./.venv/lib/python3.12/site-packages (from -r requirements.txt (line 24)) (0.19.2)\n",
      "Requirement already satisfied: Jinja2==3.1.6 in ./.venv/lib/python3.12/site-packages (from -r requirements.txt (line 25)) (3.1.6)\n",
      "Requirement already satisfied: joblib==1.4.2 in ./.venv/lib/python3.12/site-packages (from -r requirements.txt (line 26)) (1.4.2)\n",
      "Requirement already satisfied: jupyter_client==8.6.3 in ./.venv/lib/python3.12/site-packages (from -r requirements.txt (line 27)) (8.6.3)\n",
      "Requirement already satisfied: jupyter_core==5.7.2 in ./.venv/lib/python3.12/site-packages (from -r requirements.txt (line 28)) (5.7.2)\n",
      "Requirement already satisfied: kiwisolver==1.4.8 in ./.venv/lib/python3.12/site-packages (from -r requirements.txt (line 29)) (1.4.8)\n",
      "Requirement already satisfied: lightning-utilities==0.14.3 in ./.venv/lib/python3.12/site-packages (from -r requirements.txt (line 30)) (0.14.3)\n",
      "Requirement already satisfied: littleutils==0.2.4 in ./.venv/lib/python3.12/site-packages (from -r requirements.txt (line 31)) (0.2.4)\n",
      "Requirement already satisfied: MarkupSafe==3.0.2 in ./.venv/lib/python3.12/site-packages (from -r requirements.txt (line 32)) (3.0.2)\n",
      "Requirement already satisfied: matplotlib==3.10.1 in ./.venv/lib/python3.12/site-packages (from -r requirements.txt (line 33)) (3.10.1)\n",
      "Requirement already satisfied: matplotlib-inline==0.1.7 in ./.venv/lib/python3.12/site-packages (from -r requirements.txt (line 34)) (0.1.7)\n",
      "Requirement already satisfied: mpmath==1.3.0 in ./.venv/lib/python3.12/site-packages (from -r requirements.txt (line 35)) (1.3.0)\n",
      "Requirement already satisfied: multidict==6.4.3 in ./.venv/lib/python3.12/site-packages (from -r requirements.txt (line 36)) (6.4.3)\n",
      "Requirement already satisfied: nest-asyncio==1.6.0 in ./.venv/lib/python3.12/site-packages (from -r requirements.txt (line 37)) (1.6.0)\n",
      "Requirement already satisfied: networkx==3.4.2 in ./.venv/lib/python3.12/site-packages (from -r requirements.txt (line 38)) (3.4.2)\n",
      "Requirement already satisfied: numpy==2.2.4 in ./.venv/lib/python3.12/site-packages (from -r requirements.txt (line 39)) (2.2.4)\n",
      "Requirement already satisfied: nvidia-cublas-cu12==12.4.5.8 in ./.venv/lib/python3.12/site-packages (from -r requirements.txt (line 40)) (12.4.5.8)\n",
      "Requirement already satisfied: nvidia-cuda-cupti-cu12==12.4.127 in ./.venv/lib/python3.12/site-packages (from -r requirements.txt (line 41)) (12.4.127)\n",
      "Requirement already satisfied: nvidia-cuda-nvrtc-cu12==12.4.127 in ./.venv/lib/python3.12/site-packages (from -r requirements.txt (line 42)) (12.4.127)\n",
      "Requirement already satisfied: nvidia-cuda-runtime-cu12==12.4.127 in ./.venv/lib/python3.12/site-packages (from -r requirements.txt (line 43)) (12.4.127)\n",
      "Requirement already satisfied: nvidia-cudnn-cu12==9.1.0.70 in ./.venv/lib/python3.12/site-packages (from -r requirements.txt (line 44)) (9.1.0.70)\n",
      "Requirement already satisfied: nvidia-cufft-cu12==11.2.1.3 in ./.venv/lib/python3.12/site-packages (from -r requirements.txt (line 45)) (11.2.1.3)\n",
      "Requirement already satisfied: nvidia-curand-cu12==10.3.5.147 in ./.venv/lib/python3.12/site-packages (from -r requirements.txt (line 46)) (10.3.5.147)\n",
      "Requirement already satisfied: nvidia-cusolver-cu12==11.6.1.9 in ./.venv/lib/python3.12/site-packages (from -r requirements.txt (line 47)) (11.6.1.9)\n",
      "Requirement already satisfied: nvidia-cusparse-cu12==12.3.1.170 in ./.venv/lib/python3.12/site-packages (from -r requirements.txt (line 48)) (12.3.1.170)\n",
      "Requirement already satisfied: nvidia-cusparselt-cu12==0.6.2 in ./.venv/lib/python3.12/site-packages (from -r requirements.txt (line 49)) (0.6.2)\n",
      "Requirement already satisfied: nvidia-nccl-cu12==2.21.5 in ./.venv/lib/python3.12/site-packages (from -r requirements.txt (line 50)) (2.21.5)\n",
      "Requirement already satisfied: nvidia-nvjitlink-cu12==12.4.127 in ./.venv/lib/python3.12/site-packages (from -r requirements.txt (line 51)) (12.4.127)\n",
      "Requirement already satisfied: nvidia-nvtx-cu12==12.4.127 in ./.venv/lib/python3.12/site-packages (from -r requirements.txt (line 52)) (12.4.127)\n",
      "Requirement already satisfied: nvidia-smi==0.1.3 in ./.venv/lib/python3.12/site-packages (from -r requirements.txt (line 53)) (0.1.3)\n",
      "Requirement already satisfied: packaging==25.0 in ./.venv/lib/python3.12/site-packages (from -r requirements.txt (line 54)) (25.0)\n",
      "Requirement already satisfied: parso==0.8.4 in ./.venv/lib/python3.12/site-packages (from -r requirements.txt (line 55)) (0.8.4)\n",
      "Requirement already satisfied: pexpect==4.9.0 in ./.venv/lib/python3.12/site-packages (from -r requirements.txt (line 56)) (4.9.0)\n",
      "Requirement already satisfied: pillow==11.1.0 in ./.venv/lib/python3.12/site-packages (from -r requirements.txt (line 57)) (11.1.0)\n",
      "Requirement already satisfied: platformdirs==4.3.7 in ./.venv/lib/python3.12/site-packages (from -r requirements.txt (line 58)) (4.3.7)\n",
      "Requirement already satisfied: pluggy==1.5.0 in ./.venv/lib/python3.12/site-packages (from -r requirements.txt (line 59)) (1.5.0)\n",
      "Requirement already satisfied: prompt_toolkit==3.0.51 in ./.venv/lib/python3.12/site-packages (from -r requirements.txt (line 60)) (3.0.51)\n",
      "Requirement already satisfied: propcache==0.3.1 in ./.venv/lib/python3.12/site-packages (from -r requirements.txt (line 61)) (0.3.1)\n",
      "Requirement already satisfied: psutil==7.0.0 in ./.venv/lib/python3.12/site-packages (from -r requirements.txt (line 62)) (7.0.0)\n",
      "Requirement already satisfied: ptyprocess==0.7.0 in ./.venv/lib/python3.12/site-packages (from -r requirements.txt (line 63)) (0.7.0)\n",
      "Requirement already satisfied: pure_eval==0.2.3 in ./.venv/lib/python3.12/site-packages (from -r requirements.txt (line 64)) (0.2.3)\n",
      "Requirement already satisfied: pycocotools==2.0.8 in ./.venv/lib/python3.12/site-packages (from -r requirements.txt (line 65)) (2.0.8)\n",
      "Requirement already satisfied: Pygments==2.19.1 in ./.venv/lib/python3.12/site-packages (from -r requirements.txt (line 66)) (2.19.1)\n",
      "Requirement already satisfied: pyparsing==3.2.3 in ./.venv/lib/python3.12/site-packages (from -r requirements.txt (line 67)) (3.2.3)\n",
      "Requirement already satisfied: pytest==8.3.5 in ./.venv/lib/python3.12/site-packages (from -r requirements.txt (line 68)) (8.3.5)\n",
      "Requirement already satisfied: python-dateutil==2.9.0.post0 in ./.venv/lib/python3.12/site-packages (from -r requirements.txt (line 69)) (2.9.0.post0)\n",
      "Requirement already satisfied: pytorch-lightning==2.5.1.post0 in ./.venv/lib/python3.12/site-packages (from -r requirements.txt (line 70)) (2.5.1.post0)\n",
      "Requirement already satisfied: PyYAML==6.0.2 in ./.venv/lib/python3.12/site-packages (from -r requirements.txt (line 71)) (6.0.2)\n",
      "Requirement already satisfied: pyzmq==26.4.0 in ./.venv/lib/python3.12/site-packages (from -r requirements.txt (line 72)) (26.4.0)\n",
      "Requirement already satisfied: regex==2024.11.6 in ./.venv/lib/python3.12/site-packages (from -r requirements.txt (line 73)) (2024.11.6)\n",
      "Requirement already satisfied: requests==2.32.3 in ./.venv/lib/python3.12/site-packages (from -r requirements.txt (line 74)) (2.32.3)\n",
      "Requirement already satisfied: safetensors==0.5.3 in ./.venv/lib/python3.12/site-packages (from -r requirements.txt (line 75)) (0.5.3)\n",
      "Requirement already satisfied: scikit-learn==1.6.1 in ./.venv/lib/python3.12/site-packages (from -r requirements.txt (line 76)) (1.6.1)\n",
      "Requirement already satisfied: scipy==1.15.2 in ./.venv/lib/python3.12/site-packages (from -r requirements.txt (line 77)) (1.15.2)\n",
      "Requirement already satisfied: setuptools==78.1.0 in ./.venv/lib/python3.12/site-packages (from -r requirements.txt (line 78)) (78.1.0)\n",
      "Requirement already satisfied: six==1.17.0 in ./.venv/lib/python3.12/site-packages (from -r requirements.txt (line 79)) (1.17.0)\n",
      "Requirement already satisfied: sorcery==0.2.2 in ./.venv/lib/python3.12/site-packages (from -r requirements.txt (line 80)) (0.2.2)\n",
      "Requirement already satisfied: stack-data==0.6.3 in ./.venv/lib/python3.12/site-packages (from -r requirements.txt (line 81)) (0.6.3)\n",
      "Requirement already satisfied: sympy==1.13.1 in ./.venv/lib/python3.12/site-packages (from -r requirements.txt (line 82)) (1.13.1)\n",
      "Requirement already satisfied: threadpoolctl==3.6.0 in ./.venv/lib/python3.12/site-packages (from -r requirements.txt (line 83)) (3.6.0)\n",
      "Requirement already satisfied: tokenizers==0.21.1 in ./.venv/lib/python3.12/site-packages (from -r requirements.txt (line 84)) (0.21.1)\n",
      "Requirement already satisfied: torch==2.6.0 in ./.venv/lib/python3.12/site-packages (from -r requirements.txt (line 85)) (2.6.0)\n",
      "Requirement already satisfied: torchaudio==2.6.0 in ./.venv/lib/python3.12/site-packages (from -r requirements.txt (line 86)) (2.6.0)\n",
      "Requirement already satisfied: torchmetrics==1.7.1 in ./.venv/lib/python3.12/site-packages (from -r requirements.txt (line 87)) (1.7.1)\n",
      "Requirement already satisfied: torchvision==0.21.0 in ./.venv/lib/python3.12/site-packages (from -r requirements.txt (line 88)) (0.21.0)\n",
      "Requirement already satisfied: tornado==6.4.2 in ./.venv/lib/python3.12/site-packages (from -r requirements.txt (line 89)) (6.4.2)\n",
      "Requirement already satisfied: tqdm==4.67.1 in ./.venv/lib/python3.12/site-packages (from -r requirements.txt (line 90)) (4.67.1)\n",
      "Requirement already satisfied: traitlets==5.14.3 in ./.venv/lib/python3.12/site-packages (from -r requirements.txt (line 91)) (5.14.3)\n",
      "Requirement already satisfied: triton==3.2.0 in ./.venv/lib/python3.12/site-packages (from -r requirements.txt (line 93)) (3.2.0)\n",
      "Requirement already satisfied: typeguard==4.4.2 in ./.venv/lib/python3.12/site-packages (from -r requirements.txt (line 94)) (4.4.2)\n",
      "Requirement already satisfied: typing_extensions==4.13.0 in ./.venv/lib/python3.12/site-packages (from -r requirements.txt (line 95)) (4.13.0)\n",
      "Requirement already satisfied: urllib3==2.4.0 in ./.venv/lib/python3.12/site-packages (from -r requirements.txt (line 96)) (2.4.0)\n",
      "Requirement already satisfied: wcwidth==0.2.13 in ./.venv/lib/python3.12/site-packages (from -r requirements.txt (line 97)) (0.2.13)\n",
      "Requirement already satisfied: wrapt==1.17.2 in ./.venv/lib/python3.12/site-packages (from -r requirements.txt (line 98)) (1.17.2)\n",
      "Requirement already satisfied: yarl==1.20.0 in ./.venv/lib/python3.12/site-packages (from -r requirements.txt (line 99)) (1.20.0)\n",
      "Note: you may need to restart the kernel to use updated packages.\n"
     ]
    }
   ],
   "source": [
    "pip install --no-cache-dir -r requirements.txt"
   ]
  },
  {
   "cell_type": "code",
   "execution_count": 2,
   "id": "03ac5b12",
   "metadata": {},
   "outputs": [
    {
     "name": "stdout",
     "output_type": "stream",
     "text": [
      "cpu\n"
     ]
    },
    {
     "name": "stderr",
     "output_type": "stream",
     "text": [
      "/home/tobiadetula/Documents/Robot Systems (DAS)/Spring 2025/Kunstig intelligens værktøjer, (F25)/Final Report/project_code/.venv/lib/python3.12/site-packages/torch/cuda/__init__.py:129: UserWarning: CUDA initialization: Unexpected error from cudaGetDeviceCount(). Did you run some cuda functions before calling NumCudaDevices() that might have already set an error? Error 804: forward compatibility was attempted on non supported HW (Triggered internally at /pytorch/c10/cuda/CUDAFunctions.cpp:109.)\n",
      "  return torch._C._cuda_getDeviceCount() > 0\n"
     ]
    }
   ],
   "source": [
    "import os\n",
    "import torch\n",
    "import torch.nn as nn\n",
    "import torchvision\n",
    "from torch.utils.data import Dataset, DataLoader, random_split\n",
    "from torchvision import transforms\n",
    "from PIL import Image\n",
    "import torchvision.models as models\n",
    "import torch.optim as optim\n",
    "import matplotlib.pyplot as plt\n",
    "import numpy as np\n",
    "\n",
    "\n",
    "\n",
    "#Check for CUDA and use if available\n",
    "device = torch.device(\"cuda\" if torch.cuda.is_available() else \"cpu\")\n",
    "print(device)"
   ]
  }
 ],
 "metadata": {
  "kernelspec": {
   "display_name": ".venv",
   "language": "python",
   "name": "python3"
  },
  "language_info": {
   "codemirror_mode": {
    "name": "ipython",
    "version": 3
   },
   "file_extension": ".py",
   "mimetype": "text/x-python",
   "name": "python",
   "nbconvert_exporter": "python",
   "pygments_lexer": "ipython3",
   "version": "3.12.3"
  }
 },
 "nbformat": 4,
 "nbformat_minor": 5
}
